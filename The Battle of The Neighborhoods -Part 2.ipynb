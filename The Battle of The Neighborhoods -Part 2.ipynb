{
    "cells": [
        {
            "metadata": {
                "collapsed": true
            },
            "cell_type": "markdown",
            "source": "# Applied Capstone Project - The Battle of Neighborhoods"
        },
        {
            "metadata": {},
            "cell_type": "markdown",
            "source": "# Determine New Store Locations in Manhattan for a Cosmetic Shop"
        },
        {
            "metadata": {},
            "cell_type": "markdown",
            "source": "## 1. Introduction and Discussion of the Business Objective"
        },
        {
            "metadata": {},
            "cell_type": "markdown",
            "source": "#### Problem Background and Description\nManhattan , is the most densely populated of the five boroughs of New York City. Manhattan serves as the city's economic and administrative center, cultural identifier, and historical birthplace.The borough consists mostly of Manhattan Island, bounded by the Hudson, East, and Harlem rivers; as well as several small adjacent islands. Manhattan additionally contains Marble Hill, a small neighborhood now on the U.S. mainland, that was connected using landfill to the Bronx and separated from the rest of Manhattan by the Harlem River. Manhattan Island is divided into three informally bounded components, each aligned with the borough's long axis: Lower, Midtown, and Upper Manhattan. \n\nManhattan has been described as the cultural, financial, media, and entertainment capital of the world, and the borough hosts the United Nations Headquarters. MEG Company produces cosmetic products, they have some stores in Europe but they also want to built a store in Manhattan. They puts lots of work on their Research and Development projects and eventually improved an eyeshadow palet that has tones of colour on it and they also care about human skin health and regulations about chemicals. Before they release the product to the market; MEG Company's manager decide to allocate this project to me. Manager also want from me to build a system that can help in reccommending new places for their new Cosmetic Shop that will open in Manhattan. This will be a major part of their decision-making process. MEG Company want to position for their new shop in high traffic areas where consumers go restaurants, cafes.\n\n#### Criteria\nAccording to information provided by another company that have shops in Manhattan suggests that the best locations to open new Cosmetic Shop stores may not only be where other Cosmetic Shops are located. This data strongly suggests that the best places are in fact areas that are near Ital\u0131an Restaurants, Caf\u00e9s, Coffee Shops and Hotels. The people live in Manhattan are very social people that frequent these place often.\n\nThe analysis and recommendations for this new store locations will provide us on general districts with these establishments, not on specific store addresses. Narrowing down the best district options derived from analysis allows for either further research to be conducted, or on the ground searching for specific sites by the company's personnel.\n"
        },
        {
            "metadata": {},
            "cell_type": "markdown",
            "source": "## Data Requirements"
        },
        {
            "metadata": {},
            "cell_type": "markdown",
            "source": "#### Data Collection \n\nThe number of main districts in Manhattan is 40 . The data regarding the districts in Manhattan needs to be provided for this analyses. Before the exploratory analyses, we can see that the raw data is not a usable form. We need to prepare the data to turn its usable form to do so firstly data wrangling and cleaning will have to be performed. I am able to rich the list of Boroughs in NewYork from https://cocl.us/new_york_dataset. The table gives me the list as shown below. "
        },
        {
            "metadata": {},
            "cell_type": "code",
            "source": "neighborhoods.head(10)",
            "execution_count": 11,
            "outputs": [
                {
                    "output_type": "execute_result",
                    "execution_count": 11,
                    "data": {
                        "text/plain": "     Borough    Neighborhood   Latitude  Longitude\n0      Bronx       Wakefield  40.894705 -73.847201\n1      Bronx      Co-op City  40.874294 -73.829939\n2      Bronx     Eastchester  40.887556 -73.827806\n3      Bronx       Fieldston  40.895437 -73.905643\n4      Bronx       Riverdale  40.890834 -73.912585\n5      Bronx     Kingsbridge  40.881687 -73.902818\n6  Manhattan     Marble Hill  40.876551 -73.910660\n7      Bronx        Woodlawn  40.898273 -73.867315\n8      Bronx         Norwood  40.877224 -73.879391\n9      Bronx  Williamsbridge  40.881039 -73.857446",
                        "text/html": "<div>\n<style scoped>\n    .dataframe tbody tr th:only-of-type {\n        vertical-align: middle;\n    }\n\n    .dataframe tbody tr th {\n        vertical-align: top;\n    }\n\n    .dataframe thead th {\n        text-align: right;\n    }\n</style>\n<table border=\"1\" class=\"dataframe\">\n  <thead>\n    <tr style=\"text-align: right;\">\n      <th></th>\n      <th>Borough</th>\n      <th>Neighborhood</th>\n      <th>Latitude</th>\n      <th>Longitude</th>\n    </tr>\n  </thead>\n  <tbody>\n    <tr>\n      <th>0</th>\n      <td>Bronx</td>\n      <td>Wakefield</td>\n      <td>40.894705</td>\n      <td>-73.847201</td>\n    </tr>\n    <tr>\n      <th>1</th>\n      <td>Bronx</td>\n      <td>Co-op City</td>\n      <td>40.874294</td>\n      <td>-73.829939</td>\n    </tr>\n    <tr>\n      <th>2</th>\n      <td>Bronx</td>\n      <td>Eastchester</td>\n      <td>40.887556</td>\n      <td>-73.827806</td>\n    </tr>\n    <tr>\n      <th>3</th>\n      <td>Bronx</td>\n      <td>Fieldston</td>\n      <td>40.895437</td>\n      <td>-73.905643</td>\n    </tr>\n    <tr>\n      <th>4</th>\n      <td>Bronx</td>\n      <td>Riverdale</td>\n      <td>40.890834</td>\n      <td>-73.912585</td>\n    </tr>\n    <tr>\n      <th>5</th>\n      <td>Bronx</td>\n      <td>Kingsbridge</td>\n      <td>40.881687</td>\n      <td>-73.902818</td>\n    </tr>\n    <tr>\n      <th>6</th>\n      <td>Manhattan</td>\n      <td>Marble Hill</td>\n      <td>40.876551</td>\n      <td>-73.910660</td>\n    </tr>\n    <tr>\n      <th>7</th>\n      <td>Bronx</td>\n      <td>Woodlawn</td>\n      <td>40.898273</td>\n      <td>-73.867315</td>\n    </tr>\n    <tr>\n      <th>8</th>\n      <td>Bronx</td>\n      <td>Norwood</td>\n      <td>40.877224</td>\n      <td>-73.879391</td>\n    </tr>\n    <tr>\n      <th>9</th>\n      <td>Bronx</td>\n      <td>Williamsbridge</td>\n      <td>40.881039</td>\n      <td>-73.857446</td>\n    </tr>\n  </tbody>\n</table>\n</div>"
                    },
                    "metadata": {}
                }
            ]
        },
        {
            "metadata": {},
            "cell_type": "markdown",
            "source": "NewYork has 5 boroughs and 306 neighborhoods. After that we need the data includes just Manhattan's neighborhoods, latitudes and longtitudes. The data frame as shown below gives us these values.The cleansed data will be used with Foursquare data."
        },
        {
            "metadata": {},
            "cell_type": "code",
            "source": "manhattan_data = neighborhoods[neighborhoods['Borough'] == 'Manhattan'].reset_index(drop=True)\nmanhattan_data.head()",
            "execution_count": 12,
            "outputs": [
                {
                    "output_type": "execute_result",
                    "execution_count": 12,
                    "data": {
                        "text/plain": "     Borough        Neighborhood   Latitude  Longitude\n0  Manhattan         Marble Hill  40.876551 -73.910660\n1  Manhattan           Chinatown  40.715618 -73.994279\n2  Manhattan  Washington Heights  40.851903 -73.936900\n3  Manhattan              Inwood  40.867684 -73.921210\n4  Manhattan    Hamilton Heights  40.823604 -73.949688",
                        "text/html": "<div>\n<style scoped>\n    .dataframe tbody tr th:only-of-type {\n        vertical-align: middle;\n    }\n\n    .dataframe tbody tr th {\n        vertical-align: top;\n    }\n\n    .dataframe thead th {\n        text-align: right;\n    }\n</style>\n<table border=\"1\" class=\"dataframe\">\n  <thead>\n    <tr style=\"text-align: right;\">\n      <th></th>\n      <th>Borough</th>\n      <th>Neighborhood</th>\n      <th>Latitude</th>\n      <th>Longitude</th>\n    </tr>\n  </thead>\n  <tbody>\n    <tr>\n      <th>0</th>\n      <td>Manhattan</td>\n      <td>Marble Hill</td>\n      <td>40.876551</td>\n      <td>-73.910660</td>\n    </tr>\n    <tr>\n      <th>1</th>\n      <td>Manhattan</td>\n      <td>Chinatown</td>\n      <td>40.715618</td>\n      <td>-73.994279</td>\n    </tr>\n    <tr>\n      <th>2</th>\n      <td>Manhattan</td>\n      <td>Washington Heights</td>\n      <td>40.851903</td>\n      <td>-73.936900</td>\n    </tr>\n    <tr>\n      <th>3</th>\n      <td>Manhattan</td>\n      <td>Inwood</td>\n      <td>40.867684</td>\n      <td>-73.921210</td>\n    </tr>\n    <tr>\n      <th>4</th>\n      <td>Manhattan</td>\n      <td>Hamilton Heights</td>\n      <td>40.823604</td>\n      <td>-73.949688</td>\n    </tr>\n  </tbody>\n</table>\n</div>"
                    },
                    "metadata": {}
                }
            ]
        },
        {
            "metadata": {},
            "cell_type": "markdown",
            "source": "#### Data Analysis and Location Data:\n\n* Foursquare data will be usefull to explore or compare districts around Manhattan.\n* Foursquare data will gives us the venues, latitudes and longtitudes and venues' catagory which will help us to determine the possible areas for Cosmetic Shop.\n* Data manipulation and analysis to derive subsets of the initial data."
        },
        {
            "metadata": {},
            "cell_type": "code",
            "source": "# Import libraries\nimport numpy as np # library to handle data in a vectorized manner\nimport json # library to handle JSON files\nimport pandas as pd\n\n!conda install -c conda-forge geopy --yes \nfrom geopy.geocoders import Nominatim # convert an address into latitude and longitude values\n\nimport requests # library to handle requests\nfrom pandas.io.json import json_normalize # tranform JSON file into a pandas dataframe\n\n# Matplotlib and associated plotting modules\nimport matplotlib.pyplot as plt\nimport matplotlib.cm as cm\nimport matplotlib.colors as colors\n\nfrom bs4 import BeautifulSoup\n\n# Import k-means from clustering stage\nfrom sklearn.cluster import KMeans\n\n!conda install -c conda-forge folium=0.5.0 --yes \nimport folium # map rendering library\n\nprint('Libraries imported.')",
            "execution_count": 1,
            "outputs": [
                {
                    "output_type": "stream",
                    "text": "Solving environment: done\n\n# All requested packages already installed.\n\nSolving environment: - ^C\nfailed\n\nCondaError: KeyboardInterrupt\n\nLibraries imported.\n",
                    "name": "stdout"
                }
            ]
        },
        {
            "metadata": {},
            "cell_type": "markdown",
            "source": "#### Data Preparation"
        },
        {
            "metadata": {},
            "cell_type": "code",
            "source": "!wget -q -O 'newyork_data.json' https://cocl.us/new_york_dataset\nprint('Data downloaded!')",
            "execution_count": 2,
            "outputs": [
                {
                    "output_type": "stream",
                    "text": "Data downloaded!\n",
                    "name": "stdout"
                }
            ]
        },
        {
            "metadata": {},
            "cell_type": "code",
            "source": "with open('newyork_data.json') as json_data:\n    newyork_data = json.load(json_data)",
            "execution_count": 3,
            "outputs": []
        },
        {
            "metadata": {},
            "cell_type": "code",
            "source": "neighborhoods_data = newyork_data['features']",
            "execution_count": 4,
            "outputs": []
        },
        {
            "metadata": {},
            "cell_type": "code",
            "source": "# define the dataframe columns\ncolumn_names = ['Borough', 'Neighborhood', 'Latitude', 'Longitude'] \n\n# instantiate the dataframe\nneighborhoods = pd.DataFrame(columns=column_names)\nneighborhoods",
            "execution_count": 5,
            "outputs": [
                {
                    "output_type": "execute_result",
                    "execution_count": 5,
                    "data": {
                        "text/plain": "Empty DataFrame\nColumns: [Borough, Neighborhood, Latitude, Longitude]\nIndex: []",
                        "text/html": "<div>\n<style scoped>\n    .dataframe tbody tr th:only-of-type {\n        vertical-align: middle;\n    }\n\n    .dataframe tbody tr th {\n        vertical-align: top;\n    }\n\n    .dataframe thead th {\n        text-align: right;\n    }\n</style>\n<table border=\"1\" class=\"dataframe\">\n  <thead>\n    <tr style=\"text-align: right;\">\n      <th></th>\n      <th>Borough</th>\n      <th>Neighborhood</th>\n      <th>Latitude</th>\n      <th>Longitude</th>\n    </tr>\n  </thead>\n  <tbody>\n  </tbody>\n</table>\n</div>"
                    },
                    "metadata": {}
                }
            ]
        },
        {
            "metadata": {},
            "cell_type": "code",
            "source": "for data in neighborhoods_data:\n    borough = neighborhood_name = data['properties']['borough'] \n    neighborhood_name = data['properties']['name']\n        \n    neighborhood_latlon = data['geometry']['coordinates']\n    neighborhood_lat = neighborhood_latlon[1]\n    neighborhood_lon = neighborhood_latlon[0]\n    \n    neighborhoods = neighborhoods.append({'Borough': borough,\n                                          'Neighborhood': neighborhood_name,\n                                          'Latitude': neighborhood_lat,\n                                          'Longitude': neighborhood_lon}, ignore_index=True)",
            "execution_count": 6,
            "outputs": []
        },
        {
            "metadata": {},
            "cell_type": "code",
            "source": "neighborhoods.head(10)",
            "execution_count": 10,
            "outputs": [
                {
                    "output_type": "execute_result",
                    "execution_count": 10,
                    "data": {
                        "text/plain": "     Borough    Neighborhood   Latitude  Longitude\n0      Bronx       Wakefield  40.894705 -73.847201\n1      Bronx      Co-op City  40.874294 -73.829939\n2      Bronx     Eastchester  40.887556 -73.827806\n3      Bronx       Fieldston  40.895437 -73.905643\n4      Bronx       Riverdale  40.890834 -73.912585\n5      Bronx     Kingsbridge  40.881687 -73.902818\n6  Manhattan     Marble Hill  40.876551 -73.910660\n7      Bronx        Woodlawn  40.898273 -73.867315\n8      Bronx         Norwood  40.877224 -73.879391\n9      Bronx  Williamsbridge  40.881039 -73.857446",
                        "text/html": "<div>\n<style scoped>\n    .dataframe tbody tr th:only-of-type {\n        vertical-align: middle;\n    }\n\n    .dataframe tbody tr th {\n        vertical-align: top;\n    }\n\n    .dataframe thead th {\n        text-align: right;\n    }\n</style>\n<table border=\"1\" class=\"dataframe\">\n  <thead>\n    <tr style=\"text-align: right;\">\n      <th></th>\n      <th>Borough</th>\n      <th>Neighborhood</th>\n      <th>Latitude</th>\n      <th>Longitude</th>\n    </tr>\n  </thead>\n  <tbody>\n    <tr>\n      <th>0</th>\n      <td>Bronx</td>\n      <td>Wakefield</td>\n      <td>40.894705</td>\n      <td>-73.847201</td>\n    </tr>\n    <tr>\n      <th>1</th>\n      <td>Bronx</td>\n      <td>Co-op City</td>\n      <td>40.874294</td>\n      <td>-73.829939</td>\n    </tr>\n    <tr>\n      <th>2</th>\n      <td>Bronx</td>\n      <td>Eastchester</td>\n      <td>40.887556</td>\n      <td>-73.827806</td>\n    </tr>\n    <tr>\n      <th>3</th>\n      <td>Bronx</td>\n      <td>Fieldston</td>\n      <td>40.895437</td>\n      <td>-73.905643</td>\n    </tr>\n    <tr>\n      <th>4</th>\n      <td>Bronx</td>\n      <td>Riverdale</td>\n      <td>40.890834</td>\n      <td>-73.912585</td>\n    </tr>\n    <tr>\n      <th>5</th>\n      <td>Bronx</td>\n      <td>Kingsbridge</td>\n      <td>40.881687</td>\n      <td>-73.902818</td>\n    </tr>\n    <tr>\n      <th>6</th>\n      <td>Manhattan</td>\n      <td>Marble Hill</td>\n      <td>40.876551</td>\n      <td>-73.910660</td>\n    </tr>\n    <tr>\n      <th>7</th>\n      <td>Bronx</td>\n      <td>Woodlawn</td>\n      <td>40.898273</td>\n      <td>-73.867315</td>\n    </tr>\n    <tr>\n      <th>8</th>\n      <td>Bronx</td>\n      <td>Norwood</td>\n      <td>40.877224</td>\n      <td>-73.879391</td>\n    </tr>\n    <tr>\n      <th>9</th>\n      <td>Bronx</td>\n      <td>Williamsbridge</td>\n      <td>40.881039</td>\n      <td>-73.857446</td>\n    </tr>\n  </tbody>\n</table>\n</div>"
                    },
                    "metadata": {}
                }
            ]
        },
        {
            "metadata": {},
            "cell_type": "code",
            "source": "print('The dataframe has {} boroughs and {} neighborhoods.'.format(\n        len(neighborhoods['Borough'].unique()),\n        neighborhoods.shape[0]\n    )\n)",
            "execution_count": 8,
            "outputs": [
                {
                    "output_type": "stream",
                    "text": "The dataframe has 5 boroughs and 306 neighborhoods.\n",
                    "name": "stdout"
                }
            ]
        },
        {
            "metadata": {},
            "cell_type": "code",
            "source": "manhattan_data = neighborhoods[neighborhoods['Borough'] == 'Manhattan'].reset_index(drop=True)\nmanhattan_data.head()",
            "execution_count": 9,
            "outputs": [
                {
                    "output_type": "execute_result",
                    "execution_count": 9,
                    "data": {
                        "text/plain": "     Borough        Neighborhood   Latitude  Longitude\n0  Manhattan         Marble Hill  40.876551 -73.910660\n1  Manhattan           Chinatown  40.715618 -73.994279\n2  Manhattan  Washington Heights  40.851903 -73.936900\n3  Manhattan              Inwood  40.867684 -73.921210\n4  Manhattan    Hamilton Heights  40.823604 -73.949688",
                        "text/html": "<div>\n<style scoped>\n    .dataframe tbody tr th:only-of-type {\n        vertical-align: middle;\n    }\n\n    .dataframe tbody tr th {\n        vertical-align: top;\n    }\n\n    .dataframe thead th {\n        text-align: right;\n    }\n</style>\n<table border=\"1\" class=\"dataframe\">\n  <thead>\n    <tr style=\"text-align: right;\">\n      <th></th>\n      <th>Borough</th>\n      <th>Neighborhood</th>\n      <th>Latitude</th>\n      <th>Longitude</th>\n    </tr>\n  </thead>\n  <tbody>\n    <tr>\n      <th>0</th>\n      <td>Manhattan</td>\n      <td>Marble Hill</td>\n      <td>40.876551</td>\n      <td>-73.910660</td>\n    </tr>\n    <tr>\n      <th>1</th>\n      <td>Manhattan</td>\n      <td>Chinatown</td>\n      <td>40.715618</td>\n      <td>-73.994279</td>\n    </tr>\n    <tr>\n      <th>2</th>\n      <td>Manhattan</td>\n      <td>Washington Heights</td>\n      <td>40.851903</td>\n      <td>-73.936900</td>\n    </tr>\n    <tr>\n      <th>3</th>\n      <td>Manhattan</td>\n      <td>Inwood</td>\n      <td>40.867684</td>\n      <td>-73.921210</td>\n    </tr>\n    <tr>\n      <th>4</th>\n      <td>Manhattan</td>\n      <td>Hamilton Heights</td>\n      <td>40.823604</td>\n      <td>-73.949688</td>\n    </tr>\n  </tbody>\n</table>\n</div>"
                    },
                    "metadata": {}
                }
            ]
        }
    ],
    "metadata": {
        "kernelspec": {
            "name": "python3",
            "display_name": "Python 3.6",
            "language": "python"
        },
        "language_info": {
            "name": "python",
            "version": "3.6.9",
            "mimetype": "text/x-python",
            "codemirror_mode": {
                "name": "ipython",
                "version": 3
            },
            "pygments_lexer": "ipython3",
            "nbconvert_exporter": "python",
            "file_extension": ".py"
        }
    },
    "nbformat": 4,
    "nbformat_minor": 1
}